{
  "nbformat": 4,
  "nbformat_minor": 0,
  "metadata": {
    "colab": {
      "provenance": [],
      "mount_file_id": "1CHAl9pwjYOshTASFBYj3-xMnreAg62wi",
      "authorship_tag": "ABX9TyNR8KMOX9ykWDsR/oyUnAEE",
      "include_colab_link": true
    },
    "kernelspec": {
      "name": "python3",
      "display_name": "Python 3"
    },
    "language_info": {
      "name": "python"
    }
  },
  "cells": [
    {
      "cell_type": "markdown",
      "metadata": {
        "id": "view-in-github",
        "colab_type": "text"
      },
      "source": [
        "<a href=\"https://colab.research.google.com/github/raamiiChu/NCCU_111-1_DCT_Blockchain-Application-Development_Final-Project/blob/main/%E7%A8%8B%E5%BC%8F%E7%A2%BC_%E8%A8%88%E7%AE%97/%E5%88%9D%E6%AD%A5%E8%AA%AA%E6%98%8E%E5%8F%8A%E6%BC%94%E7%A4%BA.ipynb\" target=\"_parent\"><img src=\"https://colab.research.google.com/assets/colab-badge.svg\" alt=\"Open In Colab\"/></a>"
      ]
    },
    {
      "cell_type": "code",
      "execution_count": null,
      "metadata": {
        "id": "aU9-TevshR80",
        "colab": {
          "base_uri": "https://localhost:8080/"
        },
        "outputId": "a7e1c121-a5d0-49a1-9146-4c761188eff8"
      },
      "outputs": [
        {
          "output_type": "stream",
          "name": "stdout",
          "text": [
            "/content/drive/MyDrive/Colab Notebooks/區塊鍊應用\n"
          ]
        }
      ],
      "source": [
        "%cd /content/drive/MyDrive/Colab Notebooks/區塊鍊應用"
      ]
    },
    {
      "cell_type": "code",
      "source": [
        "import pandas as pd\n",
        "import numpy as np"
      ],
      "metadata": {
        "id": "T2gqsLrVhuFn"
      },
      "execution_count": null,
      "outputs": []
    },
    {
      "cell_type": "code",
      "source": [
        "menu = pd.read_excel(\"fx(hash) 作品清單.xlsx\", index_col = 0)"
      ],
      "metadata": {
        "id": "0vxuzJq5nnR6"
      },
      "execution_count": null,
      "outputs": []
    },
    {
      "cell_type": "code",
      "source": [
        "menu"
      ],
      "metadata": {
        "colab": {
          "base_uri": "https://localhost:8080/",
          "height": 678
        },
        "id": "mkI1iA5qpAT7",
        "outputId": "7047d8c0-c892-487e-8e40-8c038065751b"
      },
      "execution_count": null,
      "outputs": [
        {
          "output_type": "execute_result",
          "data": {
            "text/plain": [
              "                                                id  \\\n",
              "Enfantines I. Small Talk                   20569.0   \n",
              "fx(haish) / the Generator                  21554.0   \n",
              "Enfantines II. Enfantillages Pittoresques  22739.0   \n",
              "Wigglenza                                  20260.0   \n",
              "uncontrolled                               21261.0   \n",
              "...                                            ...   \n",
              "Mantle                                     21450.0   \n",
              "(dis)Mantle                                22625.0   \n",
              "Meaning                                    21053.0   \n",
              "Misunderstanding                           21340.0   \n",
              "Connect-us                                 21579.0   \n",
              "\n",
              "                                                                               url  \\\n",
              "Enfantines I. Small Talk                   https://www.fxhash.xyz/generative/20569   \n",
              "fx(haish) / the Generator                  https://www.fxhash.xyz/generative/21554   \n",
              "Enfantines II. Enfantillages Pittoresques  https://www.fxhash.xyz/generative/22739   \n",
              "Wigglenza                                  https://www.fxhash.xyz/generative/20260   \n",
              "uncontrolled                               https://www.fxhash.xyz/generative/21261   \n",
              "...                                                                            ...   \n",
              "Mantle                                     https://www.fxhash.xyz/generative/21450   \n",
              "(dis)Mantle                                https://www.fxhash.xyz/generative/22625   \n",
              "Meaning                                    https://www.fxhash.xyz/generative/21053   \n",
              "Misunderstanding                           https://www.fxhash.xyz/generative/21340   \n",
              "Connect-us                                 https://www.fxhash.xyz/generative/21579   \n",
              "\n",
              "                                                 author  \\\n",
              "Enfantines I. Small Talk                      Alejandro   \n",
              "fx(haish) / the Generator                     Alejandro   \n",
              "Enfantines II. Enfantillages Pittoresques     Alejandro   \n",
              "Wigglenza                                  Diego Pintos   \n",
              "uncontrolled                               Diego Pintos   \n",
              "...                                                 ...   \n",
              "Mantle                                         xiiixiii   \n",
              "(dis)Mantle                                    xiiixiii   \n",
              "Meaning                                          yenren   \n",
              "Misunderstanding                                 yenren   \n",
              "Connect-us                                       yenren   \n",
              "\n",
              "                                                          createdAt  \\\n",
              "Enfantines I. Small Talk                   2022-10-22T08:07:44.000Z   \n",
              "fx(haish) / the Generator                  2022-11-17T22:47:29.000Z   \n",
              "Enfantines II. Enfantillages Pittoresques  2022-12-21T21:04:59.000Z   \n",
              "Wigglenza                                  2022-10-11T11:21:59.000Z   \n",
              "uncontrolled                               2022-11-13T10:42:14.000Z   \n",
              "...                                                             ...   \n",
              "Mantle                                     2022-11-16T20:16:44.000Z   \n",
              "(dis)Mantle                                2022-12-19T20:03:14.000Z   \n",
              "Meaning                                    2022-11-06T18:28:14.000Z   \n",
              "Misunderstanding                           2022-11-14T09:45:29.000Z   \n",
              "Connect-us                                 2022-11-18T16:28:59.000Z   \n",
              "\n",
              "                                           royalties   lowestSold  \\\n",
              "Enfantines I. Small Talk                       125.0   12500000.0   \n",
              "fx(haish) / the Generator                      150.0    7000000.0   \n",
              "Enfantines II. Enfantillages Pittoresques      125.0  145000000.0   \n",
              "Wigglenza                                      150.0    1500000.0   \n",
              "uncontrolled                                   150.0     800000.0   \n",
              "...                                              ...          ...   \n",
              "Mantle                                         100.0    2482000.0   \n",
              "(dis)Mantle                                    120.0   40000000.0   \n",
              "Meaning                                        150.0    1500000.0   \n",
              "Misunderstanding                               150.0    1000000.0   \n",
              "Connect-us                                     150.0    1000000.0   \n",
              "\n",
              "                                            highestSold  primVolumeTz  \\\n",
              "Enfantines I. Small Talk                   5.000000e+08  1.282500e+09   \n",
              "fx(haish) / the Generator                  2.220000e+08  3.650000e+08   \n",
              "Enfantines II. Enfantillages Pittoresques  5.000000e+08  2.113600e+10   \n",
              "Wigglenza                                  1.200000e+07  6.350000e+08   \n",
              "uncontrolled                               7.000000e+06  3.650000e+08   \n",
              "...                                                 ...           ...   \n",
              "Mantle                                     1.000000e+09  3.650000e+08   \n",
              "(dis)Mantle                                2.050000e+08  1.780000e+09   \n",
              "Meaning                                    7.000000e+06  3.065000e+08   \n",
              "Misunderstanding                           1.000000e+07  3.650000e+08   \n",
              "Connect-us                                 4.000000e+06  2.000000e+08   \n",
              "\n",
              "                                            secVolumeTz  primVolumeNb  \\\n",
              "Enfantines I. Small Talk                   1.460935e+10         171.0   \n",
              "fx(haish) / the Generator                  1.272732e+10         365.0   \n",
              "Enfantines II. Enfantillages Pittoresques  3.173365e+10         439.0   \n",
              "Wigglenza                                  3.013957e+08         256.0   \n",
              "uncontrolled                               3.470000e+07         365.0   \n",
              "...                                                 ...           ...   \n",
              "Mantle                                     2.630327e+10         365.0   \n",
              "(dis)Mantle                                7.295990e+09         249.0   \n",
              "Meaning                                    3.047267e+08         200.0   \n",
              "Misunderstanding                           3.657725e+08         365.0   \n",
              "Connect-us                                 6.819000e+07         200.0   \n",
              "\n",
              "                                           secVolumeNb  splitsPrimary  \\\n",
              "Enfantines I. Small Talk                         154.0          900.0   \n",
              "fx(haish) / the Generator                        323.0          100.0   \n",
              "Enfantines II. Enfantillages Pittoresques        159.0          900.0   \n",
              "Wigglenza                                         66.0         1000.0   \n",
              "uncontrolled                                      16.0          500.0   \n",
              "...                                                ...            ...   \n",
              "Mantle                                           245.0            0.0   \n",
              "(dis)Mantle                                       84.0            0.0   \n",
              "Meaning                                          107.0         1000.0   \n",
              "Misunderstanding                                 136.0          500.0   \n",
              "Connect-us                                        29.0          600.0   \n",
              "\n",
              "                                           splitsSecondary  \n",
              "Enfantines I. Small Talk                             900.0  \n",
              "fx(haish) / the Generator                            450.0  \n",
              "Enfantines II. Enfantillages Pittoresques            900.0  \n",
              "Wigglenza                                           1000.0  \n",
              "uncontrolled                                        1000.0  \n",
              "...                                                    ...  \n",
              "Mantle                                              1000.0  \n",
              "(dis)Mantle                                         1000.0  \n",
              "Meaning                                              800.0  \n",
              "Misunderstanding                                     500.0  \n",
              "Connect-us                                           400.0  \n",
              "\n",
              "[75 rows x 13 columns]"
            ],
            "text/html": [
              "\n",
              "  <div id=\"df-cca7de8a-58e6-4907-a055-6484e88cfda8\">\n",
              "    <div class=\"colab-df-container\">\n",
              "      <div>\n",
              "<style scoped>\n",
              "    .dataframe tbody tr th:only-of-type {\n",
              "        vertical-align: middle;\n",
              "    }\n",
              "\n",
              "    .dataframe tbody tr th {\n",
              "        vertical-align: top;\n",
              "    }\n",
              "\n",
              "    .dataframe thead th {\n",
              "        text-align: right;\n",
              "    }\n",
              "</style>\n",
              "<table border=\"1\" class=\"dataframe\">\n",
              "  <thead>\n",
              "    <tr style=\"text-align: right;\">\n",
              "      <th></th>\n",
              "      <th>id</th>\n",
              "      <th>url</th>\n",
              "      <th>author</th>\n",
              "      <th>createdAt</th>\n",
              "      <th>royalties</th>\n",
              "      <th>lowestSold</th>\n",
              "      <th>highestSold</th>\n",
              "      <th>primVolumeTz</th>\n",
              "      <th>secVolumeTz</th>\n",
              "      <th>primVolumeNb</th>\n",
              "      <th>secVolumeNb</th>\n",
              "      <th>splitsPrimary</th>\n",
              "      <th>splitsSecondary</th>\n",
              "    </tr>\n",
              "  </thead>\n",
              "  <tbody>\n",
              "    <tr>\n",
              "      <th>Enfantines I. Small Talk</th>\n",
              "      <td>20569.0</td>\n",
              "      <td>https://www.fxhash.xyz/generative/20569</td>\n",
              "      <td>Alejandro</td>\n",
              "      <td>2022-10-22T08:07:44.000Z</td>\n",
              "      <td>125.0</td>\n",
              "      <td>12500000.0</td>\n",
              "      <td>5.000000e+08</td>\n",
              "      <td>1.282500e+09</td>\n",
              "      <td>1.460935e+10</td>\n",
              "      <td>171.0</td>\n",
              "      <td>154.0</td>\n",
              "      <td>900.0</td>\n",
              "      <td>900.0</td>\n",
              "    </tr>\n",
              "    <tr>\n",
              "      <th>fx(haish) / the Generator</th>\n",
              "      <td>21554.0</td>\n",
              "      <td>https://www.fxhash.xyz/generative/21554</td>\n",
              "      <td>Alejandro</td>\n",
              "      <td>2022-11-17T22:47:29.000Z</td>\n",
              "      <td>150.0</td>\n",
              "      <td>7000000.0</td>\n",
              "      <td>2.220000e+08</td>\n",
              "      <td>3.650000e+08</td>\n",
              "      <td>1.272732e+10</td>\n",
              "      <td>365.0</td>\n",
              "      <td>323.0</td>\n",
              "      <td>100.0</td>\n",
              "      <td>450.0</td>\n",
              "    </tr>\n",
              "    <tr>\n",
              "      <th>Enfantines II. Enfantillages Pittoresques</th>\n",
              "      <td>22739.0</td>\n",
              "      <td>https://www.fxhash.xyz/generative/22739</td>\n",
              "      <td>Alejandro</td>\n",
              "      <td>2022-12-21T21:04:59.000Z</td>\n",
              "      <td>125.0</td>\n",
              "      <td>145000000.0</td>\n",
              "      <td>5.000000e+08</td>\n",
              "      <td>2.113600e+10</td>\n",
              "      <td>3.173365e+10</td>\n",
              "      <td>439.0</td>\n",
              "      <td>159.0</td>\n",
              "      <td>900.0</td>\n",
              "      <td>900.0</td>\n",
              "    </tr>\n",
              "    <tr>\n",
              "      <th>Wigglenza</th>\n",
              "      <td>20260.0</td>\n",
              "      <td>https://www.fxhash.xyz/generative/20260</td>\n",
              "      <td>Diego Pintos</td>\n",
              "      <td>2022-10-11T11:21:59.000Z</td>\n",
              "      <td>150.0</td>\n",
              "      <td>1500000.0</td>\n",
              "      <td>1.200000e+07</td>\n",
              "      <td>6.350000e+08</td>\n",
              "      <td>3.013957e+08</td>\n",
              "      <td>256.0</td>\n",
              "      <td>66.0</td>\n",
              "      <td>1000.0</td>\n",
              "      <td>1000.0</td>\n",
              "    </tr>\n",
              "    <tr>\n",
              "      <th>uncontrolled</th>\n",
              "      <td>21261.0</td>\n",
              "      <td>https://www.fxhash.xyz/generative/21261</td>\n",
              "      <td>Diego Pintos</td>\n",
              "      <td>2022-11-13T10:42:14.000Z</td>\n",
              "      <td>150.0</td>\n",
              "      <td>800000.0</td>\n",
              "      <td>7.000000e+06</td>\n",
              "      <td>3.650000e+08</td>\n",
              "      <td>3.470000e+07</td>\n",
              "      <td>365.0</td>\n",
              "      <td>16.0</td>\n",
              "      <td>500.0</td>\n",
              "      <td>1000.0</td>\n",
              "    </tr>\n",
              "    <tr>\n",
              "      <th>...</th>\n",
              "      <td>...</td>\n",
              "      <td>...</td>\n",
              "      <td>...</td>\n",
              "      <td>...</td>\n",
              "      <td>...</td>\n",
              "      <td>...</td>\n",
              "      <td>...</td>\n",
              "      <td>...</td>\n",
              "      <td>...</td>\n",
              "      <td>...</td>\n",
              "      <td>...</td>\n",
              "      <td>...</td>\n",
              "      <td>...</td>\n",
              "    </tr>\n",
              "    <tr>\n",
              "      <th>Mantle</th>\n",
              "      <td>21450.0</td>\n",
              "      <td>https://www.fxhash.xyz/generative/21450</td>\n",
              "      <td>xiiixiii</td>\n",
              "      <td>2022-11-16T20:16:44.000Z</td>\n",
              "      <td>100.0</td>\n",
              "      <td>2482000.0</td>\n",
              "      <td>1.000000e+09</td>\n",
              "      <td>3.650000e+08</td>\n",
              "      <td>2.630327e+10</td>\n",
              "      <td>365.0</td>\n",
              "      <td>245.0</td>\n",
              "      <td>0.0</td>\n",
              "      <td>1000.0</td>\n",
              "    </tr>\n",
              "    <tr>\n",
              "      <th>(dis)Mantle</th>\n",
              "      <td>22625.0</td>\n",
              "      <td>https://www.fxhash.xyz/generative/22625</td>\n",
              "      <td>xiiixiii</td>\n",
              "      <td>2022-12-19T20:03:14.000Z</td>\n",
              "      <td>120.0</td>\n",
              "      <td>40000000.0</td>\n",
              "      <td>2.050000e+08</td>\n",
              "      <td>1.780000e+09</td>\n",
              "      <td>7.295990e+09</td>\n",
              "      <td>249.0</td>\n",
              "      <td>84.0</td>\n",
              "      <td>0.0</td>\n",
              "      <td>1000.0</td>\n",
              "    </tr>\n",
              "    <tr>\n",
              "      <th>Meaning</th>\n",
              "      <td>21053.0</td>\n",
              "      <td>https://www.fxhash.xyz/generative/21053</td>\n",
              "      <td>yenren</td>\n",
              "      <td>2022-11-06T18:28:14.000Z</td>\n",
              "      <td>150.0</td>\n",
              "      <td>1500000.0</td>\n",
              "      <td>7.000000e+06</td>\n",
              "      <td>3.065000e+08</td>\n",
              "      <td>3.047267e+08</td>\n",
              "      <td>200.0</td>\n",
              "      <td>107.0</td>\n",
              "      <td>1000.0</td>\n",
              "      <td>800.0</td>\n",
              "    </tr>\n",
              "    <tr>\n",
              "      <th>Misunderstanding</th>\n",
              "      <td>21340.0</td>\n",
              "      <td>https://www.fxhash.xyz/generative/21340</td>\n",
              "      <td>yenren</td>\n",
              "      <td>2022-11-14T09:45:29.000Z</td>\n",
              "      <td>150.0</td>\n",
              "      <td>1000000.0</td>\n",
              "      <td>1.000000e+07</td>\n",
              "      <td>3.650000e+08</td>\n",
              "      <td>3.657725e+08</td>\n",
              "      <td>365.0</td>\n",
              "      <td>136.0</td>\n",
              "      <td>500.0</td>\n",
              "      <td>500.0</td>\n",
              "    </tr>\n",
              "    <tr>\n",
              "      <th>Connect-us</th>\n",
              "      <td>21579.0</td>\n",
              "      <td>https://www.fxhash.xyz/generative/21579</td>\n",
              "      <td>yenren</td>\n",
              "      <td>2022-11-18T16:28:59.000Z</td>\n",
              "      <td>150.0</td>\n",
              "      <td>1000000.0</td>\n",
              "      <td>4.000000e+06</td>\n",
              "      <td>2.000000e+08</td>\n",
              "      <td>6.819000e+07</td>\n",
              "      <td>200.0</td>\n",
              "      <td>29.0</td>\n",
              "      <td>600.0</td>\n",
              "      <td>400.0</td>\n",
              "    </tr>\n",
              "  </tbody>\n",
              "</table>\n",
              "<p>75 rows × 13 columns</p>\n",
              "</div>\n",
              "      <button class=\"colab-df-convert\" onclick=\"convertToInteractive('df-cca7de8a-58e6-4907-a055-6484e88cfda8')\"\n",
              "              title=\"Convert this dataframe to an interactive table.\"\n",
              "              style=\"display:none;\">\n",
              "        \n",
              "  <svg xmlns=\"http://www.w3.org/2000/svg\" height=\"24px\"viewBox=\"0 0 24 24\"\n",
              "       width=\"24px\">\n",
              "    <path d=\"M0 0h24v24H0V0z\" fill=\"none\"/>\n",
              "    <path d=\"M18.56 5.44l.94 2.06.94-2.06 2.06-.94-2.06-.94-.94-2.06-.94 2.06-2.06.94zm-11 1L8.5 8.5l.94-2.06 2.06-.94-2.06-.94L8.5 2.5l-.94 2.06-2.06.94zm10 10l.94 2.06.94-2.06 2.06-.94-2.06-.94-.94-2.06-.94 2.06-2.06.94z\"/><path d=\"M17.41 7.96l-1.37-1.37c-.4-.4-.92-.59-1.43-.59-.52 0-1.04.2-1.43.59L10.3 9.45l-7.72 7.72c-.78.78-.78 2.05 0 2.83L4 21.41c.39.39.9.59 1.41.59.51 0 1.02-.2 1.41-.59l7.78-7.78 2.81-2.81c.8-.78.8-2.07 0-2.86zM5.41 20L4 18.59l7.72-7.72 1.47 1.35L5.41 20z\"/>\n",
              "  </svg>\n",
              "      </button>\n",
              "      \n",
              "  <style>\n",
              "    .colab-df-container {\n",
              "      display:flex;\n",
              "      flex-wrap:wrap;\n",
              "      gap: 12px;\n",
              "    }\n",
              "\n",
              "    .colab-df-convert {\n",
              "      background-color: #E8F0FE;\n",
              "      border: none;\n",
              "      border-radius: 50%;\n",
              "      cursor: pointer;\n",
              "      display: none;\n",
              "      fill: #1967D2;\n",
              "      height: 32px;\n",
              "      padding: 0 0 0 0;\n",
              "      width: 32px;\n",
              "    }\n",
              "\n",
              "    .colab-df-convert:hover {\n",
              "      background-color: #E2EBFA;\n",
              "      box-shadow: 0px 1px 2px rgba(60, 64, 67, 0.3), 0px 1px 3px 1px rgba(60, 64, 67, 0.15);\n",
              "      fill: #174EA6;\n",
              "    }\n",
              "\n",
              "    [theme=dark] .colab-df-convert {\n",
              "      background-color: #3B4455;\n",
              "      fill: #D2E3FC;\n",
              "    }\n",
              "\n",
              "    [theme=dark] .colab-df-convert:hover {\n",
              "      background-color: #434B5C;\n",
              "      box-shadow: 0px 1px 3px 1px rgba(0, 0, 0, 0.15);\n",
              "      filter: drop-shadow(0px 1px 2px rgba(0, 0, 0, 0.3));\n",
              "      fill: #FFFFFF;\n",
              "    }\n",
              "  </style>\n",
              "\n",
              "      <script>\n",
              "        const buttonEl =\n",
              "          document.querySelector('#df-cca7de8a-58e6-4907-a055-6484e88cfda8 button.colab-df-convert');\n",
              "        buttonEl.style.display =\n",
              "          google.colab.kernel.accessAllowed ? 'block' : 'none';\n",
              "\n",
              "        async function convertToInteractive(key) {\n",
              "          const element = document.querySelector('#df-cca7de8a-58e6-4907-a055-6484e88cfda8');\n",
              "          const dataTable =\n",
              "            await google.colab.kernel.invokeFunction('convertToInteractive',\n",
              "                                                     [key], {});\n",
              "          if (!dataTable) return;\n",
              "\n",
              "          const docLinkHtml = 'Like what you see? Visit the ' +\n",
              "            '<a target=\"_blank\" href=https://colab.research.google.com/notebooks/data_table.ipynb>data table notebook</a>'\n",
              "            + ' to learn more about interactive tables.';\n",
              "          element.innerHTML = '';\n",
              "          dataTable['output_type'] = 'display_data';\n",
              "          await google.colab.output.renderOutput(dataTable, element);\n",
              "          const docLink = document.createElement('div');\n",
              "          docLink.innerHTML = docLinkHtml;\n",
              "          element.appendChild(docLink);\n",
              "        }\n",
              "      </script>\n",
              "    </div>\n",
              "  </div>\n",
              "  "
            ]
          },
          "metadata": {},
          "execution_count": 34
        }
      ]
    },
    {
      "cell_type": "code",
      "source": [
        "work = menu.loc[\"fx(haish) / the Generator\"]"
      ],
      "metadata": {
        "id": "6mP5y_jusPaR"
      },
      "execution_count": null,
      "outputs": []
    },
    {
      "cell_type": "markdown",
      "source": [
        "# 藝術家收入"
      ],
      "metadata": {
        "id": "ANVTVdj5tvOV"
      }
    },
    {
      "cell_type": "markdown",
      "source": [
        "### 一級市場"
      ],
      "metadata": {
        "id": "zio_QuPJtjTe"
      }
    },
    {
      "cell_type": "markdown",
      "source": [
        "總交易價格 * 分成 * 平台抽成"
      ],
      "metadata": {
        "id": "WdgTF9KlEmY2"
      }
    },
    {
      "cell_type": "code",
      "source": [
        "(work[\"primVolumeTz\"] / 10**6) * (work[\"splitsPrimary\"] / 10**3) * 0.95"
      ],
      "metadata": {
        "colab": {
          "base_uri": "https://localhost:8080/"
        },
        "id": "YJqPApPqoyHB",
        "outputId": "501a849f-cba1-4639-804b-f3db419648a0"
      },
      "execution_count": null,
      "outputs": [
        {
          "output_type": "execute_result",
          "data": {
            "text/plain": [
              "34.675"
            ]
          },
          "metadata": {},
          "execution_count": 49
        }
      ]
    },
    {
      "cell_type": "markdown",
      "source": [
        "### 二級市場"
      ],
      "metadata": {
        "id": "IKXyrs5dtlmg"
      }
    },
    {
      "cell_type": "markdown",
      "source": [
        "總交易價格 * 版稅 * 分成"
      ],
      "metadata": {
        "id": "dPLbHByaEwue"
      }
    },
    {
      "cell_type": "code",
      "source": [
        "(work[\"secVolumeTz\"] / 10**6) * (work[\"royalties\"] / 10**3) * (work[\"splitsSecondary\"] / 10**3)"
      ],
      "metadata": {
        "colab": {
          "base_uri": "https://localhost:8080/"
        },
        "id": "zGOnuYiFpstn",
        "outputId": "7593bf09-3011-4d10-b464-36586d676da1"
      },
      "execution_count": null,
      "outputs": [
        {
          "output_type": "execute_result",
          "data": {
            "text/plain": [
              "859.0937625"
            ]
          },
          "metadata": {},
          "execution_count": 51
        }
      ]
    },
    {
      "cell_type": "markdown",
      "source": [
        "# 市場價格"
      ],
      "metadata": {
        "id": "ltOugkf4tyOf"
      }
    },
    {
      "cell_type": "markdown",
      "source": [
        "### 一級市場"
      ],
      "metadata": {
        "id": "YXlOANJbt1Mp"
      }
    },
    {
      "cell_type": "markdown",
      "source": [
        "平均底價 + 平均 gas fee"
      ],
      "metadata": {
        "id": "ffgcO5fnEPlm"
      }
    },
    {
      "cell_type": "code",
      "source": [
        "(work[\"primVolumeTz\"] / 10**6) / work[\"primVolumeNb\"]"
      ],
      "metadata": {
        "colab": {
          "base_uri": "https://localhost:8080/"
        },
        "id": "fXMxSLOut7xj",
        "outputId": "f623ea96-72f4-49ff-89de-6d624ee669e9"
      },
      "execution_count": null,
      "outputs": [
        {
          "output_type": "execute_result",
          "data": {
            "text/plain": [
              "1.0"
            ]
          },
          "metadata": {},
          "execution_count": 54
        }
      ]
    },
    {
      "cell_type": "code",
      "source": [
        "anniversary = pd.ExcelFile(\"一周年作品.xlsx\")\n",
        "data = anniversary.parse(\"fx(haish)  the Generator\", index_col = \"name\", usecols = \"C:H\")\n",
        "# anniversary.sheet_names\n",
        "\n",
        "gas_fee = data[\"gas_fee\"]\n",
        "sum(gas_fee) / len(gas_fee)"
      ],
      "metadata": {
        "colab": {
          "base_uri": "https://localhost:8080/"
        },
        "id": "X24q7LV3hziM",
        "outputId": "ed71eda0-d648-4a12-8d03-af2c992afdab"
      },
      "execution_count": null,
      "outputs": [
        {
          "output_type": "execute_result",
          "data": {
            "text/plain": [
              "5.1335467068493195"
            ]
          },
          "metadata": {},
          "execution_count": 71
        }
      ]
    },
    {
      "cell_type": "markdown",
      "source": [
        "### 二級市場"
      ],
      "metadata": {
        "id": "6SjcgtKPt42J"
      }
    },
    {
      "cell_type": "markdown",
      "source": [
        "總交易價格 / 總交易數量"
      ],
      "metadata": {
        "id": "J-uenhuIEVcn"
      }
    },
    {
      "cell_type": "code",
      "source": [
        "(work[\"secVolumeTz\"] / 10**6) / work[\"secVolumeNb\"]"
      ],
      "metadata": {
        "colab": {
          "base_uri": "https://localhost:8080/"
        },
        "id": "noxiP6Eft8T0",
        "outputId": "83fb43a2-3f4e-49d0-dbc3-164fb35622c0"
      },
      "execution_count": null,
      "outputs": [
        {
          "output_type": "execute_result",
          "data": {
            "text/plain": [
              "39.4034520123839"
            ]
          },
          "metadata": {},
          "execution_count": 53
        }
      ]
    }
  ]
}