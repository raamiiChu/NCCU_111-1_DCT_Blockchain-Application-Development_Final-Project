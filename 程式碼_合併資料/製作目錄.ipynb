{
  "nbformat": 4,
  "nbformat_minor": 0,
  "metadata": {
    "colab": {
      "provenance": [],
      "authorship_tag": "ABX9TyPASpvX9P6x4wQ7fFLrAkNE",
      "include_colab_link": true
    },
    "kernelspec": {
      "name": "python3",
      "display_name": "Python 3"
    },
    "language_info": {
      "name": "python"
    }
  },
  "cells": [
    {
      "cell_type": "markdown",
      "metadata": {
        "id": "view-in-github",
        "colab_type": "text"
      },
      "source": [
        "<a href=\"https://colab.research.google.com/github/raamiiChu/NCCU_111-1_DCT_Blockchain-Application-Development_Final-Project/blob/main/%E7%A8%8B%E5%BC%8F%E7%A2%BC_%E5%90%88%E4%BD%B5%E8%B3%87%E6%96%99/%E8%A3%BD%E4%BD%9C%E7%9B%AE%E9%8C%84.ipynb\" target=\"_parent\"><img src=\"https://colab.research.google.com/assets/colab-badge.svg\" alt=\"Open In Colab\"/></a>"
      ]
    },
    {
      "cell_type": "markdown",
      "source": [
        "## 匯入模組"
      ],
      "metadata": {
        "id": "zhwqtRK0Wcbe"
      }
    },
    {
      "cell_type": "code",
      "source": [
        "!pip install pandas"
      ],
      "metadata": {
        "colab": {
          "base_uri": "https://localhost:8080/"
        },
        "id": "iM2foJswDBH1",
        "outputId": "d3a2f1c0-803c-4e27-dafe-39e811ad75f1"
      },
      "execution_count": null,
      "outputs": [
        {
          "output_type": "stream",
          "name": "stdout",
          "text": [
            "Looking in indexes: https://pypi.org/simple, https://us-python.pkg.dev/colab-wheels/public/simple/\n",
            "Requirement already satisfied: pandas in /usr/local/lib/python3.8/dist-packages (1.3.5)\n",
            "Requirement already satisfied: pytz>=2017.3 in /usr/local/lib/python3.8/dist-packages (from pandas) (2022.7)\n",
            "Requirement already satisfied: python-dateutil>=2.7.3 in /usr/local/lib/python3.8/dist-packages (from pandas) (2.8.2)\n",
            "Requirement already satisfied: numpy>=1.17.3 in /usr/local/lib/python3.8/dist-packages (from pandas) (1.21.6)\n",
            "Requirement already satisfied: six>=1.5 in /usr/local/lib/python3.8/dist-packages (from python-dateutil>=2.7.3->pandas) (1.15.0)\n"
          ]
        }
      ]
    },
    {
      "cell_type": "code",
      "execution_count": null,
      "metadata": {
        "id": "oOCj_WzyrdB6"
      },
      "outputs": [],
      "source": [
        "import json\n",
        "import os\n",
        "\n",
        "import pandas as pd"
      ]
    },
    {
      "cell_type": "markdown",
      "source": [
        "## 建立目錄"
      ],
      "metadata": {
        "id": "L2Y1ACv_WZ8P"
      }
    },
    {
      "cell_type": "code",
      "source": [
        "def write_rows(file_name: str, startrow: int) -> None:\n",
        "    with open(file_name ,\"r\",encoding = \"utf-8\") as json_file:\n",
        "        json_data = json.load(json_file)\n",
        "\n",
        "    rows = {json_data[\"name\"]: [json_data[\"id\"], \n",
        "                                f\"https://www.fxhash.xyz/generative/{json_data['id']}\",\n",
        "                                json_data[\"author\"][\"name\"], \n",
        "                                json_data[\"createdAt\"], \n",
        "                                json_data[\"royalties\"], \n",
        "                                json_data[\"marketStats\"][\"lowestSold\"], \n",
        "                                json_data[\"marketStats\"][\"highestSold\"], \n",
        "                                json_data[\"marketStats\"][\"primVolumeTz\"], \n",
        "                                json_data[\"marketStats\"][\"secVolumeTz\"], \n",
        "                                json_data[\"marketStats\"][\"primVolumeNb\"], \n",
        "                                json_data[\"marketStats\"][\"secVolumeNb\"], 0, 0]}\n",
        "\n",
        "    for index, split_type in enumerate([\"splitsPrimary\", \"splitsSecondary\"]):\n",
        "        for split in json_data[split_type]:\n",
        "            if split[\"user\"][\"name\"] == json_data[\"author\"][\"name\"]:\n",
        "                rows[json_data[\"name\"]][-2 + index] = split[\"pct\"]\n",
        "\n",
        "    data = pd.DataFrame(rows).T\n",
        "\n",
        "    data.to_excel(writer, header = False, startrow = startrow)\n"
      ],
      "metadata": {
        "id": "pYqh4V7O5SUq"
      },
      "execution_count": null,
      "outputs": []
    },
    {
      "cell_type": "code",
      "source": [
        "folder_path = \"/content/folder\"\n",
        "files = os.listdir(folder_path)\n",
        "indexs = [\"id\", \"url\", \"author\", \"createdAt\", \"royalties\", \"lowestSold\", \"highestSold\", \"primVolumeTz\", \"secVolumeTz\", \"primVolumeNb\", \"secVolumeNb\", \"splitsPrimary\", \"splitsSecondary\"]\n",
        "\n",
        "\n",
        "writer = pd.ExcelWriter(\"fx(hash) 作品清單.xlsx\")\n",
        "(pd.DataFrame(indexs).T).to_excel(writer, header = False)\n",
        "\n",
        "for index, file in enumerate(files):\n",
        "    if file == \".ipynb_checkpoints\":\n",
        "        continue\n",
        "\n",
        "    write_rows(f\"{folder_path}/{file}\", index+1)\n",
        "\n",
        "writer.save()"
      ],
      "metadata": {
        "id": "9OF1daoK6Sm7"
      },
      "execution_count": null,
      "outputs": []
    },
    {
      "cell_type": "markdown",
      "source": [
        "## 排序"
      ],
      "metadata": {
        "id": "-5odNwNoWX_d"
      }
    },
    {
      "cell_type": "code",
      "source": [
        "fxhash_menu = pd.read_excel(\"fx(hash) 作品清單.xlsx\")\n",
        "fxhash_menu = fxhash_menu.sort_values(by=['author', \"id\"])\n",
        "fxhash_menu.set_index(0 , inplace=True)\n",
        "fxhash_menu.to_excel(\"fx(hash) 作品清單.xlsx\")"
      ],
      "metadata": {
        "id": "0GwP0WlWJHRF"
      },
      "execution_count": null,
      "outputs": []
    }
  ]
}